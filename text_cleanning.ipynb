{
 "cells": [
  {
   "cell_type": "code",
   "execution_count": 6,
   "metadata": {},
   "outputs": [],
   "source": [
    "##\n",
    "import pandas as pd\n",
    "import spacy\n",
    "import re\n",
    "\n",
    "#df= pd.read_csv(r\"C:\\Users\\tania\\Desktop\\Uni-Bonn\\II semestre\\Project_NLP\\NLP_project\\Data_set\\best_20songs_perartist.csv\")\n",
    "#print(df.head())\n",
    "#print(type(df[\"lyrics\"]))\n",
    "#df =df[0:10]\n",
    "#print(len(df))"
   ]
  },
  {
   "cell_type": "code",
   "execution_count": 7,
   "metadata": {},
   "outputs": [],
   "source": [
    "# remove characters not add a meaning to the lyrics\n",
    "nlp = spacy.load(\"en_core_web_sm\")"
   ]
  },
  {
   "cell_type": "code",
   "execution_count": 35,
   "metadata": {},
   "outputs": [
    {
     "name": "stdout",
     "output_type": "stream",
     "text": [
      "0       \\r\\n Woo \\r\\n yeah \\r\\n G G G G G Unit G Unit ...\n",
      "1       \\r\\n like the fire need the air \\r\\n I will no...\n",
      "2       \\r\\n they say this be a big rich town \\r\\n I j...\n",
      "3       \\r\\n yeah \\r\\n Haha yeah \\r\\n yeah \\r\\n\\r\\n\\r\\...\n",
      "4       \\r\\n I come in the world cryin and fussin \\r\\n...\n",
      "                              ...                        \n",
      "3551    \\r\\n\\r\\n\\r\\n there be an infestation in my min...\n",
      "3552    \\r\\n yeah yeah yeah \\r\\n\\r\\n\\r\\n we do not bel...\n",
      "3553    \\r\\n oh I know how to levitate up off my foot ...\n",
      "3554    \\r\\n I ponder of something great \\r\\n my lung ...\n",
      "3555    \\r\\n call call \\r\\n Call call \\r\\n Call call \\...\n",
      "Name: clean_lyrics, Length: 3556, dtype: object\n"
     ]
    }
   ],
   "source": [
    "\n",
    "def character_remover(txt):\n",
    "\n",
    "    \"\"\"\n",
    "    DATA CLEANING: This function removes all special characters and punctuation marks,\n",
    "    and content within square brackets from the lyrics.\n",
    "    \n",
    "    Args:\n",
    "    txt (str): The input text (lyrics) to be cleaned.\n",
    "    \n",
    "    Returns:\n",
    "    str: The cleaned text with special characters, punctuation, and bracketed content removed.\n",
    "\n",
    "    \"\"\"\n",
    "    # lyrics without brackets and its content \"[chorus]\",\"[verse 1]\"\n",
    "    txt_ = re.sub(r'\\[.*?\\]', '', txt)\n",
    "    doc = nlp(txt_)\n",
    "    clean_tokens = []\n",
    "    for token in doc:\n",
    "        # Verify if token is not punctuation, stopword or space\n",
    "        if not token.is_punct:\n",
    "            # Add token.lemma_ to the list\n",
    "            clean_tokens.append(token.lemma_)\n",
    "    \n",
    "    clean_txt = \" \".join(clean_tokens)\n",
    "    return clean_txt\n",
    "\n",
    "df['clean_lyrics'] = df['lyrics'].apply(character_remover)\n",
    "print(df['clean_lyrics'])\n",
    "\n",
    "#print(df['clean_lyrics'].iloc[7])\n",
    "#df[['clean_lyrics']].to_csv(r\"C:\\Users\\tania\\Desktop\\Uni-Bonn\\II semestre\\NPL\\NLP_project\\Data_set\\best_20songs_perartist.csv\", index=False)\n"
   ]
  },
  {
   "cell_type": "code",
   "execution_count": 37,
   "metadata": {},
   "outputs": [],
   "source": [
    "path = r\"C:\\Users\\tania\\Desktop\\Uni-Bonn\\II semestre\\NPL\\NLP_project\\Data_set\\best_20songs_perartist.csv\"\n",
    "df.to_csv(path, index=False)"
   ]
  },
  {
   "cell_type": "code",
   "execution_count": 38,
   "metadata": {},
   "outputs": [
    {
     "name": "stdout",
     "output_type": "stream",
     "text": [
      "0       Woo yeah G G G G G Unit G Unit ha ha it be eas...\n",
      "1       like the fire need the air I will not burn unl...\n",
      "2       they say this be a big rich town I just come f...\n",
      "3       yeah Haha yeah yeah if I can not do it homie i...\n",
      "4       I come in the world cryin and fussin Nigga we ...\n",
      "                              ...                        \n",
      "3551    there be an infestation in my mind 's imaginat...\n",
      "3552    yeah yeah yeah we do not believe what be on tv...\n",
      "3553    oh I know how to levitate up off my foot and e...\n",
      "3554    I ponder of something great my lung will fill ...\n",
      "3555    call call Call call Call call what be my probl...\n",
      "Name: clean_lyrics_notspace, Length: 3556, dtype: object\n"
     ]
    }
   ],
   "source": [
    "\n",
    "def character_remover(txt):\n",
    "    \"\"\"\n",
    "    DATA CLEANING: This function removes all special characters and punctuation marks, empty spaces\n",
    "    and content within square brackets from the lyrics.\n",
    "    \n",
    "    Args:\n",
    "    txt (str): The input text (lyrics) to be cleaned.\n",
    "    \n",
    "    Returns:\n",
    "    str: The cleaned text with special characters, punctuation, and bracketed content removed.\n",
    "\n",
    "    \"\"\"\n",
    "    # lyrics without brackets and its content \"[chorus]\",\"[verse 1]\"\n",
    "    txt_ = re.sub(r'\\[.*?\\]', '', txt)\n",
    "    doc = nlp(txt_)\n",
    "    clean_tokens = []\n",
    "    for token in doc:\n",
    "        # Verify if token is not punctuation, stopword or space\n",
    "        if not token.is_punct and not token.is_space:\n",
    "            # Add token.lemma_ to the list\n",
    "            clean_tokens.append(token.lemma_)\n",
    "    \n",
    "    clean_txt = \" \".join(clean_tokens)\n",
    "    return clean_txt\n",
    "\n",
    "df['clean_lyrics_notspace'] = df['lyrics'].apply(character_remover)\n",
    "print(df['clean_lyrics_notspace'])\n"
   ]
  },
  {
   "cell_type": "code",
   "execution_count": 15,
   "metadata": {},
   "outputs": [],
   "source": [
    "path = r\"C:\\Users\\tania\\Desktop\\Uni-Bonn\\II semestre\\Project_NLP\\NLP_project\\Data_set\\best_20songs_perartist.csv\"\n",
    "df= pd.read_csv(path)\n",
    "#print(df.head())"
   ]
  },
  {
   "cell_type": "code",
   "execution_count": 22,
   "metadata": {},
   "outputs": [
    {
     "name": "stdout",
     "output_type": "stream",
     "text": [
      "178\n",
      "[('50 Cent', 20), ('Adele', 20), ('Aerosmith', 20), ('Alan Jackson', 20), ('Alicia Keys', 20), ('Andy Williams', 20), ('Aretha Franklin', 20), ('Avril Lavigne', 20), ('Backstreet Boys', 20), ('Barbra Streisand', 20), ('Barry Manilow', 20), ('Bee Gees', 20), ('Billy Joel', 20), ('Bob Dylan', 20), ('Bob Seger', 20), ('Bon Jovi', 20), ('Boyz II Men', 20), ('Britney Spears', 20), ('Bruno Mars', 20), ('Bryan Adams', 20), ('Calvin Harris', 20), ('Camila Cabello', 20), ('Cardi B', 20), ('Carole King', 20), ('Carpenters', 20), ('Carrie Underwood', 20), ('Chance the Rapper', 20), ('Cher', 20), ('Chicago', 20), ('Childish Gambino', 20), ('Chris Brown', 20), ('Chris Stapleton', 20), ('Coldplay', 20), ('Commodores', 20), ('Creedence Clearwater Revival', 20), ('Daft Punk', 20), ('Def Leppard', 20), (\"Destiny's Child\", 20), ('Diana Ross', 20), ('Doja Cat', 20), ('Donna Summer', 20), ('Drake', 20), ('Dua Lipa', 20), ('Duran Duran', 20), ('Eagles', 20), ('Earth, Wind & Fire', 20), ('Ed Sheeran', 20), ('Ellie Goulding', 20), ('Elton John', 20), ('Elvis Presley', 20), ('Eminem', 20), ('Eric Clapton', 20), ('Erykah Badu', 20), ('Fleetwood Mac', 20), ('Florence + the Machine', 20), ('Foreigner', 20), ('Frank Sinatra', 20), ('Garth Brooks', 20), ('Genesis', 20), ('George Harrison', 20), ('George Michael', 20), ('Gloria Estefan', 20), ('Green Day', 20), (\"Guns N' Roses\", 20), ('Harry Styles', 20), ('Heart', 20), ('Herb Alpert', 20), ('Huey Lewis & The News', 20), ('Imagine Dragons', 20), ('J. Cole', 20), ('JAY-Z', 20), ('Jack Johnson', 20), ('James Taylor', 20), ('Janet Jackson', 20), ('Jason Mraz', 20), ('Jennifer Lopez', 20), ('Jimi Hendrix', 20), ('John Denver', 20), ('John Legend', 20), ('John Mellencamp', 20), ('Johnny Cash', 20), ('Journey', 20), ('Justin Bieber', 20), ('Justin Timberlake', 20), ('Kacey Musgraves', 20), ('Kanye West', 20), ('Katy Perry', 20), ('Kelly Clarkson', 20), ('Kendrick Lamar', 20), ('Kenny Chesney', 20), ('Kenny Rogers', 20), ('Khalid', 20), ('Kylie Minogue', 20), ('Lady Gaga', 20), ('Lana Del Rey', 20), ('Lauren Daigle', 20), ('Led Zeppelin', 20), ('Lil Wayne', 20), ('Linda Ronstadt', 20), ('Linkin Park', 20), ('Lionel Richie', 20), ('Lizzo', 20), ('Lorde', 20), ('Ludacris', 20), ('Macklemore', 20), ('Madonna', 20), ('Maren Morris', 20), ('Mariah Carey', 20), ('Mark Ronson', 20), ('Maroon 5', 20), ('Marvin Gaye', 20), ('Mary J. Blige', 20), ('Meghan Trainor', 20), ('Michael Bolton', 20), ('Michael Jackson', 20), ('Miley Cyrus', 20), ('Miranda Lambert', 20), ('Neil Diamond', 20), ('Nelly', 20), ('Nickelback', 20), ('Norah Jones', 20), ('Olivia Newton-John', 20), ('One Direction', 20), ('P!nk', 20), ('Panic! at the Disco', 20), ('Paramore', 20), ('Paul McCartney', 20), ('Paul Simon', 20), ('Paula Abdul', 20), ('Phil Collins', 20), ('Pink Floyd', 20), ('Post Malone', 20), ('Prince', 20), ('Queen', 20), ('R. Kelly', 20), ('Randy Newman', 20), ('Rascal Flatts', 20), ('Ray Charles', 20), ('Rihanna', 20), ('Robbie Williams', 20), ('Rod Stewart', 20), ('Sam Smith', 20), ('Santana', 20), ('Sara Bareilles', 20), ('Selena Gomez', 20), ('Shakira', 20), ('Shania Twain', 20), ('Shawn Mendes', 20), ('Sia', 20), ('Simon & Garfunkel', 20), ('Snoop Dogg', 20), ('Stevie Wonder', 20), ('Styx', 20), ('TLC', 20), ('Tame Impala', 20), ('Taylor Swift', 20), ('The Beach Boys', 20), ('The Beatles', 20), ('The Chainsmokers', 20), ('The Doobie Brothers', 20), ('The Jacksons', 20), ('The Monkees', 20), ('The Police', 20), ('The Rolling Stones', 20), ('The Supremes', 20), ('The Temptations', 20), ('The Weeknd', 20), ('Three Dog Night', 20), ('Tim McGraw', 20), ('Tom Petty and the Heartbreakers', 20), ('Tyler, The Creator', 20), ('U2', 20), ('Usher', 20), ('Van Halen', 20), ('Whitney Houston', 20), ('ZZ Top', 20), ('twenty one pilots', 20), ('Luis Fonsi', 16)]\n"
     ]
    }
   ],
   "source": [
    "from collections import Counter\n",
    "# number of songs for artist\n",
    "songs_artist = Counter (df['artist'])\n",
    "print(len(songs_artist))\n",
    "res = songs_artist.most_common()\n",
    "print(res)\n",
    "\n"
   ]
  }
 ],
 "metadata": {
  "kernelspec": {
   "display_name": "venv",
   "language": "python",
   "name": "python3"
  },
  "language_info": {
   "codemirror_mode": {
    "name": "ipython",
    "version": 3
   },
   "file_extension": ".py",
   "mimetype": "text/x-python",
   "name": "python",
   "nbconvert_exporter": "python",
   "pygments_lexer": "ipython3",
   "version": "3.12.2"
  }
 },
 "nbformat": 4,
 "nbformat_minor": 2
}
