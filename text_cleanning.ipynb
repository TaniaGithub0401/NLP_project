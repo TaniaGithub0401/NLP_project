{
 "cells": [
  {
   "cell_type": "code",
   "execution_count": 31,
   "metadata": {},
   "outputs": [],
   "source": [
    "\n",
    "import pandas as pd\n",
    "import spacy\n",
    "import re\n",
    "from unidecode import unidecode\n",
    "\n",
    "df= pd.read_csv(r\"Data_set\\best_200songs_per20artist.csv\")\n",
    "\n"
   ]
  },
  {
   "cell_type": "code",
   "execution_count": 32,
   "metadata": {},
   "outputs": [],
   "source": [
    "# remove characters not add a meaning to the lyrics\n",
    "nlp = spacy.load(\"en_core_web_sm\")"
   ]
  },
  {
   "cell_type": "code",
   "execution_count": 34,
   "metadata": {},
   "outputs": [
    {
     "name": "stdout",
     "output_type": "stream",
     "text": [
      "0       \\n look i was gon na go easy on you not to hur...\n",
      "1       \\n is this the real life is this just fantasy ...\n",
      "2       \\n and they wishin and wishin \\n and wishin an...\n",
      "3       \\n trap trapmoneybenny \\n this shit got me in ...\n",
      "4       \\n you sound like a bitch bitch \\n shut the fu...\n",
      "                              ...                        \n",
      "3795    \\n yeah yeah \\n oh yeah oh yeah oh yeah oh yea...\n",
      "3796    \\n\\n\\n one night not long ago \\n i fell for yo...\n",
      "3797    \\n do n't stop stop stop stop stop \\n stop sto...\n",
      "3798    \\n one night not long ago \\n i fell for you \\n...\n",
      "3799    \\n get it right \\n\\n\\n one night not long ago ...\n",
      "Name: clean_lyrics, Length: 3800, dtype: object\n"
     ]
    }
   ],
   "source": [
    "\n",
    "def character_remover(txt):\n",
    "\n",
    "    \"\"\"\n",
    "    DATA CLEANING: This function removes all special characters and punctuation marks,\n",
    "    and content within square brackets from the lyrics.\n",
    "    \n",
    "    Args:\n",
    "    txt (str): The input text (lyrics) to be cleaned.\n",
    "    \n",
    "    Returns:\n",
    "    str: The cleaned text with special characters, punctuation, and bracketed content removed.\n",
    "\n",
    "    \"\"\"\n",
    "    \n",
    "    # lyrics without brackets and its content \"[chorus]\",\"[verse 1]\"\n",
    "    \n",
    "    txt_ = re.sub(r'\\[.*?\\]', '', txt)\n",
    "    txt_ = unidecode(txt_)\n",
    "    doc = nlp(txt_)\n",
    "    clean_tokens = []\n",
    "    for token in doc:\n",
    "        # Verify if token is not punctuation.\n",
    "        if not token.is_punct:\n",
    "            # Add token.text to the list\n",
    "            clean_tokens.append(token.text)\n",
    "    \n",
    "    clean_txt = \" \".join(clean_tokens)\n",
    "    return clean_txt.lower()\n",
    "\n",
    "df['clean_lyrics'] = df['lyrics'].apply(character_remover)\n",
    "print(df['clean_lyrics'])\n",
    "\n",
    "#print(df['clean_lyrics'].iloc[7])\n",
    "df.to_csv(r\"Data_set\\best_200songs_per20artist_nw.csv\", index=False)\n"
   ]
  },
  {
   "cell_type": "code",
   "execution_count": 38,
   "metadata": {},
   "outputs": [
    {
     "name": "stdout",
     "output_type": "stream",
     "text": [
      "0       Woo yeah G G G G G Unit G Unit ha ha it be eas...\n",
      "1       like the fire need the air I will not burn unl...\n",
      "2       they say this be a big rich town I just come f...\n",
      "3       yeah Haha yeah yeah if I can not do it homie i...\n",
      "4       I come in the world cryin and fussin Nigga we ...\n",
      "                              ...                        \n",
      "3551    there be an infestation in my mind 's imaginat...\n",
      "3552    yeah yeah yeah we do not believe what be on tv...\n",
      "3553    oh I know how to levitate up off my foot and e...\n",
      "3554    I ponder of something great my lung will fill ...\n",
      "3555    call call Call call Call call what be my probl...\n",
      "Name: clean_lyrics_notspace, Length: 3556, dtype: object\n"
     ]
    }
   ],
   "source": [
    "\n",
    "def character_remover(txt):\n",
    "    \"\"\"\n",
    "    DATA CLEANING: This function removes all special characters and punctuation marks, empty spaces\n",
    "    and content within square brackets from the lyrics.\n",
    "    \n",
    "    Args:\n",
    "    txt (str): The input text (lyrics) to be cleaned.\n",
    "    \n",
    "    Returns:\n",
    "    str: The cleaned text with special characters, punctuation, and bracketed content removed.\n",
    "\n",
    "    \"\"\"\n",
    "    # lyrics without brackets and its content \"[chorus]\",\"[verse 1]\"\n",
    "    txt_ = re.sub(r'\\[.*?\\]', '', txt)\n",
    "    doc = nlp(txt_)\n",
    "    clean_tokens = []\n",
    "    for token in doc:\n",
    "        # Verify if token is not punctuation, stopword or space\n",
    "        if not token.is_punct and not token.is_space:\n",
    "            # Add token.lemma_ to the list\n",
    "            clean_tokens.append(token.lemma_)\n",
    "    \n",
    "    clean_txt = \" \".join(clean_tokens)\n",
    "    return clean_txt\n",
    "\n",
    "df['clean_lyrics_notspace'] = df['lyrics'].apply(character_remover)\n",
    "print(df['clean_lyrics_notspace'])\n"
   ]
  },
  {
   "cell_type": "code",
   "execution_count": 6,
   "metadata": {},
   "outputs": [
    {
     "name": "stdout",
     "output_type": "stream",
     "text": [
      "done\n"
     ]
    }
   ],
   "source": [
    "\n",
    "path = r\"Data_set\\best_20songs_perartist.csv\"\n",
    "\n",
    "def best_fivesongs(path):\n",
    "    \"\"\"\n",
    "    Best_fivesong: This function chose the best 5 songs of each artist according to the views.\n",
    "    \n",
    "    Args:\n",
    "    path: directory of the original dataset.\n",
    "    \n",
    "    Returns:\n",
    "    str: message to confirm the creation of the new dataset\n",
    "\n",
    "    \"\"\"\n",
    "    # load a cleaned csv \n",
    "    df = pd.read_csv(path)\n",
    "\n",
    "    # choose the best 5 songs on each artist\n",
    "    df_limited = df.sort_values('views', ascending=False).groupby('artist').head(5).reset_index(drop=True)\n",
    "\n",
    "    # save the new dataframe \n",
    "    out_path = r\"Data_set\\best_5songs_perartist.csv\" \n",
    "    df_limited.to_csv(out_path, index=False)\n",
    "    return print(\"done\")\n",
    "\n",
    "best_fivesongs(path)\n",
    "#print(f\"Archivo guardado en: {output_file_path}\")"
   ]
  }
 ],
 "metadata": {
  "kernelspec": {
   "display_name": "venv",
   "language": "python",
   "name": "python3"
  },
  "language_info": {
   "codemirror_mode": {
    "name": "ipython",
    "version": 3
   },
   "file_extension": ".py",
   "mimetype": "text/x-python",
   "name": "python",
   "nbconvert_exporter": "python",
   "pygments_lexer": "ipython3",
   "version": "3.12.2"
  }
 },
 "nbformat": 4,
 "nbformat_minor": 2
}
