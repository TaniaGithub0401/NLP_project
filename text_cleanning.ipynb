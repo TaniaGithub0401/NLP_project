{
 "cells": [
  {
   "cell_type": "code",
   "execution_count": 32,
   "metadata": {},
   "outputs": [
    {
     "name": "stdout",
     "output_type": "stream",
     "text": [
      "               title  tag   artist  year   views         features  \\\n",
      "0          Back Down  rap  50 Cent  2003  255475               {}   \n",
      "1  Hustlers Ambition  rap  50 Cent  2005  296032               {}   \n",
      "2      Big Rich Town  rap  50 Cent  2014  293892            {Joe}   \n",
      "3          If I Cant  rap  50 Cent  2003  252140               {}   \n",
      "4   Im the Man Remix  rap  50 Cent  2015  273097  {\"Chris Brown\"}   \n",
      "\n",
      "                                              lyrics       id language  \n",
      "0  [Intro]\\r\\nWoo!\\r\\nYeah\\r\\nG-G-G-G-G-Unit (G-U...     2715       en  \n",
      "1  [Sample: Maze]\\r\\nLike the fire needs the air\\...      945       en  \n",
      "2  [Chorus: Joe]\\r\\nThey say this is a big, rich ...   398357       en  \n",
      "3  [Intro: 50 Cent]\\r\\nYeah\\r\\nHaha, yeah\\r\\nYeah...     1098       en  \n",
      "4  [Intro: 50 Cent]\\r\\nI came in the world cryin'...  2445399       en  \n",
      "3556\n"
     ]
    }
   ],
   "source": [
    "##\n",
    "import pandas as pd\n",
    "import spacy\n",
    "import re\n",
    "\n",
    "df= pd.read_csv(r\"C:\\Users\\tania\\Desktop\\Uni-Bonn\\II semestre\\NPL\\NLP_project\\Data_set\\best_20songs_perartist.csv\")\n",
    "print(df.head())\n",
    "#print(type(df[\"lyrics\"]))\n",
    "#df =df[0:10]\n",
    "print(len(df))"
   ]
  },
  {
   "cell_type": "code",
   "execution_count": 33,
   "metadata": {},
   "outputs": [],
   "source": [
    "# remove characters not add a meaning to the lyrics\n",
    "nlp = spacy.load(\"en_core_web_sm\")"
   ]
  },
  {
   "cell_type": "code",
   "execution_count": null,
   "metadata": {},
   "outputs": [],
   "source": [
    "\n",
    "def character_remover(txt):\n",
    "    labels = [\"intro\", \"chorus\"]\n",
    "    doc = nlp(txt)\n",
    "    clean_tokens = []\n",
    "    \n",
    "    for token in doc:\n",
    "        #print(token)\n",
    "        clean_token = re.sub(r'[^\\w\\s]', '', token.text)\n",
    "        clean_token = clean_token.lower()\n",
    "        if clean_token == \"verse\":\n",
    "            continue  # No añadir \"verse\"\n",
    "        \n",
    "        # Verifica si el token es un número precedido por \"verse\"\n",
    "        if clean_tokens and clean_tokens[-1] == \"verse\" and clean_token.isdigit():\n",
    "            clean_tokens.pop()  # Elimina \"verse\" previo\n",
    "            continue  # No añadir el número\n",
    "\n",
    "        # Elimina etiquetas específicas y números aislados\n",
    "        if clean_token and clean_token not in labels:\n",
    "            clean_tokens.append(clean_token)\n",
    "    clean_txt = \" \".join(clean_tokens)\n",
    "    return clean_txt\n",
    "\n",
    "df['clean_lyrics'] = df['lyrics'].apply(character_remover)\n",
    "#print(df['clean_lyrics'])\n",
    "\n",
    "print(df['clean_lyrics'].iloc[0])"
   ]
  },
  {
   "cell_type": "code",
   "execution_count": 35,
   "metadata": {},
   "outputs": [
    {
     "name": "stdout",
     "output_type": "stream",
     "text": [
      "0       \\r\\n Woo \\r\\n yeah \\r\\n G G G G G Unit G Unit ...\n",
      "1       \\r\\n like the fire need the air \\r\\n I will no...\n",
      "2       \\r\\n they say this be a big rich town \\r\\n I j...\n",
      "3       \\r\\n yeah \\r\\n Haha yeah \\r\\n yeah \\r\\n\\r\\n\\r\\...\n",
      "4       \\r\\n I come in the world cryin and fussin \\r\\n...\n",
      "                              ...                        \n",
      "3551    \\r\\n\\r\\n\\r\\n there be an infestation in my min...\n",
      "3552    \\r\\n yeah yeah yeah \\r\\n\\r\\n\\r\\n we do not bel...\n",
      "3553    \\r\\n oh I know how to levitate up off my foot ...\n",
      "3554    \\r\\n I ponder of something great \\r\\n my lung ...\n",
      "3555    \\r\\n call call \\r\\n Call call \\r\\n Call call \\...\n",
      "Name: clean_lyrics, Length: 3556, dtype: object\n"
     ]
    }
   ],
   "source": [
    "\n",
    "def character_remover(txt):\n",
    "\n",
    "    \"\"\"\n",
    "    DATA CLEANING: This function removes all special characters and punctuation marks,\n",
    "    and content within square brackets from the lyrics.\n",
    "    \n",
    "    Args:\n",
    "    txt (str): The input text (lyrics) to be cleaned.\n",
    "    \n",
    "    Returns:\n",
    "    str: The cleaned text with special characters, punctuation, and bracketed content removed,\n",
    "         and with words reduced to their lemma forms.\n",
    "\n",
    "    \"\"\"\n",
    "    # lyrics without brackets and its content \"[chorus]\",\"[verse 1]\"\n",
    "    txt_ = re.sub(r'\\[.*?\\]', '', txt)\n",
    "    doc = nlp(txt_)\n",
    "    clean_tokens = []\n",
    "    for token in doc:\n",
    "        # Verify if token is not punctuation, stopword or space\n",
    "        if not token.is_punct:\n",
    "            # Add token.lemma_ to the list\n",
    "            clean_tokens.append(token.lemma_)\n",
    "    \n",
    "    clean_txt = \" \".join(clean_tokens)\n",
    "    return clean_txt\n",
    "\n",
    "df['clean_lyrics'] = df['lyrics'].apply(character_remover)\n",
    "print(df['clean_lyrics'])\n",
    "\n",
    "#print(df['clean_lyrics'].iloc[7])\n",
    "#df[['clean_lyrics']].to_csv(r\"C:\\Users\\tania\\Desktop\\Uni-Bonn\\II semestre\\NPL\\NLP_project\\Data_set\\best_20songs_perartist.csv\", index=False)\n"
   ]
  },
  {
   "cell_type": "code",
   "execution_count": 37,
   "metadata": {},
   "outputs": [],
   "source": [
    "path = r\"C:\\Users\\tania\\Desktop\\Uni-Bonn\\II semestre\\NPL\\NLP_project\\Data_set\\best_20songs_perartist.csv\"\n",
    "df.to_csv(path, index=False)"
   ]
  },
  {
   "cell_type": "code",
   "execution_count": 38,
   "metadata": {},
   "outputs": [
    {
     "name": "stdout",
     "output_type": "stream",
     "text": [
      "0       Woo yeah G G G G G Unit G Unit ha ha it be eas...\n",
      "1       like the fire need the air I will not burn unl...\n",
      "2       they say this be a big rich town I just come f...\n",
      "3       yeah Haha yeah yeah if I can not do it homie i...\n",
      "4       I come in the world cryin and fussin Nigga we ...\n",
      "                              ...                        \n",
      "3551    there be an infestation in my mind 's imaginat...\n",
      "3552    yeah yeah yeah we do not believe what be on tv...\n",
      "3553    oh I know how to levitate up off my foot and e...\n",
      "3554    I ponder of something great my lung will fill ...\n",
      "3555    call call Call call Call call what be my probl...\n",
      "Name: clean_lyrics_notspace, Length: 3556, dtype: object\n"
     ]
    }
   ],
   "source": [
    "\n",
    "def character_remover(txt):\n",
    "    # lyrics without brackets and its content \"[chorus]\",\"[verse 1]\"\n",
    "    txt_ = re.sub(r'\\[.*?\\]', '', txt)\n",
    "    doc = nlp(txt_)\n",
    "    clean_tokens = []\n",
    "    for token in doc:\n",
    "        # Verify if token is not punctuation, stopword or space\n",
    "        if not token.is_punct and not token.is_space:\n",
    "            # Add token.lemma_ to the list\n",
    "            clean_tokens.append(token.lemma_)\n",
    "    \n",
    "    clean_txt = \" \".join(clean_tokens)\n",
    "    return clean_txt\n",
    "\n",
    "df['clean_lyrics_notspace'] = df['lyrics'].apply(character_remover)\n",
    "print(df['clean_lyrics_notspace'])\n",
    "\n",
    "\n"
   ]
  },
  {
   "cell_type": "code",
   "execution_count": 42,
   "metadata": {},
   "outputs": [],
   "source": [
    "path = r\"C:\\Users\\tania\\Desktop\\Uni-Bonn\\II semestre\\NPL\\NLP_project\\Data_set\\best_20songs_perartist.csv\"\n",
    "df.to_csv(path, index=False)\n"
   ]
  }
 ],
 "metadata": {
  "kernelspec": {
   "display_name": "venv",
   "language": "python",
   "name": "python3"
  },
  "language_info": {
   "codemirror_mode": {
    "name": "ipython",
    "version": 3
   },
   "file_extension": ".py",
   "mimetype": "text/x-python",
   "name": "python",
   "nbconvert_exporter": "python",
   "pygments_lexer": "ipython3",
   "version": "3.12.2"
  }
 },
 "nbformat": 4,
 "nbformat_minor": 2
}
